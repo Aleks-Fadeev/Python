{
 "cells": [
  {
   "cell_type": "code",
   "execution_count": 11,
   "metadata": {},
   "outputs": [
    {
     "name": "stdout",
     "output_type": "stream",
     "text": [
      "0.7500 0.7500\n"
     ]
    }
   ],
   "source": [
    "import re\n",
    "pattern = re.compile('([2-46-9]-[0-9]{4,4}(BUG|BAG|BIG|BG|UG))|([5]-[0-9]{4,4}(BUG|BG|UG))$')\n",
    "\n",
    "f = open('test1.txt','r')\n",
    "\n",
    "lst=[]\n",
    "n1,k1 = str.split(f.readline(), \" \")\n",
    "n = int(n1)\n",
    "k = int(k1)\n",
    "for i in range(0,n+k):\n",
    "    line = f.readline()\n",
    "    lst.append(line)\n",
    "f.close()\n",
    "\n",
    "num_true = 0\n",
    "for i in range(n):\n",
    "    num_true += bool(re.match(pattern, lst[i]))\n",
    "accuracy = num_true / n\n",
    "num_true_total = 0\n",
    "for i in range(n+k):\n",
    "    num_true_total += bool(re.match(pattern, lst[i]))\n",
    "\n",
    "    completeness = num_true / num_true_total\n",
    "print(f\"{accuracy:.4f} {completeness:.4f}\")"
   ]
  },
  {
   "cell_type": "code",
   "execution_count": null,
   "metadata": {},
   "outputs": [],
   "source": []
  }
 ],
 "metadata": {
  "kernelspec": {
   "display_name": "Python 3",
   "language": "python",
   "name": "python3"
  },
  "language_info": {
   "codemirror_mode": {
    "name": "ipython",
    "version": 3
   },
   "file_extension": ".py",
   "mimetype": "text/x-python",
   "name": "python",
   "nbconvert_exporter": "python",
   "pygments_lexer": "ipython3",
   "version": "3.8.5"
  }
 },
 "nbformat": 4,
 "nbformat_minor": 4
}
