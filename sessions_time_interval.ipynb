{
 "cells": [
  {
   "cell_type": "code",
   "execution_count": 3,
   "metadata": {},
   "outputs": [
    {
     "data": {
      "application/vnd.jupyter.widget-view+json": {
       "model_id": "e5faa94c69c547bca7c066e393743528",
       "version_major": 2,
       "version_minor": 0
      },
      "text/plain": [
       "HBox(children=(HTML(value=''), FloatProgress(value=0.0, max=2.0), HTML(value='')))"
      ]
     },
     "metadata": {},
     "output_type": "display_data"
    },
    {
     "name": "stdout",
     "output_type": "stream",
     "text": [
      "2022-08-22 10:04:00 2022-08-22 11:15:00\n",
      "2022-08-22 12:14:00 2022-08-22 12:44:00\n",
      "\n",
      "Wall time: 73 ms\n"
     ]
    }
   ],
   "source": [
    "import pandas as pd\n",
    "from datetime import date, time, datetime, timedelta\n",
    "from tqdm.auto import tqdm\n",
    "\n",
    "# считваем только нужные колонки и  колонку даты парсим как дату.\n",
    "data = pd.read_csv(r'path\\data.csv', sep=';', usecols=['userid','timestamp'], \n",
    "                   parse_dates=['timestamp'])\n",
    "data = data.sort_values('timestamp')\n",
    "\n",
    "# функция возвращает ДФ содержащий по конкретному юзеру номера сессиий с их началом и концом.\n",
    "def get_user_sessions(df):\n",
    "#   просто делаем копию df1 = df.copy(), чтобы пандас не ругался на попытки изменить основной датафрейм\n",
    "    df1 = df.copy()\n",
    "    df1['prev_timestamp'] = df1['timestamp'].shift(1)\n",
    "    \n",
    "    min_time = df1['timestamp'].min()\n",
    "    max_time = df1['timestamp'].max()\n",
    "    \n",
    "    df1['time_since_prev'] = df1['timestamp'] - df1['prev_timestamp']\n",
    "    \n",
    "    df1['new_session'] = df1.apply(lambda x: 1 if (x['time_since_prev'] > timedelta(minutes=30) \n",
    "                                                 or x['timestamp']==min_time) else 0, axis=1)\n",
    "    \n",
    "    df1['session_num'] = df1['new_session'].cumsum()\n",
    "    \n",
    "    df_session_start = df1.groupby(['session_num'], as_index=False) \\\n",
    "            .agg({'timestamp': 'min'}).rename(columns={'timestamp': 'start'})\n",
    "    df_session_end = df1.groupby('session_num', as_index=False) \\\n",
    "            .agg({'timestamp': 'max'}).rename(columns={'timestamp': 'end'})\n",
    "    \n",
    "    df_session_end['end'] = df_session_end['end'] + timedelta(minutes=30)\n",
    "    \n",
    "    df_sessions = df_session_start.merge(df_session_end, on='session_num')\n",
    "    \n",
    "    return df_sessions\n",
    "\n",
    "# функция возвращает ДФ в котором чередуются строки начала и конца сессий с указанием времени\n",
    "def get_sessions_number(df):\n",
    "    df_prep = df[['start', 'end']].melt()\n",
    "\n",
    "    df_prep['flow'] = df_prep.apply(lambda x: 1 if x['variable']=='start' else -1, axis=1)\n",
    "\n",
    "    df_prep = df_prep.sort_values('value')\n",
    "    \n",
    "    df_prep['sessions_number'] = df_prep['flow'].cumsum()\n",
    "    \n",
    "    df_prep['sessions_number_prev'] = df_prep['sessions_number'].shift(1)\n",
    "\n",
    "    df_res = df_prep[(df_prep['sessions_number'] == df_prep['sessions_number'].max()) |\n",
    "                        (df_prep['sessions_number_prev'] == df_prep['sessions_number'].max())]\n",
    "    \n",
    "    return df_res[['variable', 'value']]\n",
    "\n",
    "\n",
    "users_list = list(data['userid'].unique())\n",
    "\n",
    "df_sessions_res = pd.DataFrame()\n",
    "\n",
    "for i in range(len(users_list)):\n",
    "    df_sessions_temp = get_user_sessions(data[data['userid']==users_list[i]])\n",
    "    df_sessions_res = pd.concat([df_sessions_res, df_sessions_temp])\n",
    "\n",
    "df2 = get_sessions_number(df_sessions_res).reset_index(drop=True)\n",
    "for i in tqdm(range(0, len(df2['value'])-1, 2)):\n",
    "    start = df2['value'][i]\n",
    "    end = df2['value'][i+1]\n",
    "    print(f\"{start} {end}\")"
   ]
  },
  {
   "cell_type": "code",
   "execution_count": null,
   "metadata": {},
   "outputs": [],
   "source": []
  }
 ],
 "metadata": {
  "kernelspec": {
   "display_name": "Python 3",
   "language": "python",
   "name": "python3"
  },
  "language_info": {
   "codemirror_mode": {
    "name": "ipython",
    "version": 3
   },
   "file_extension": ".py",
   "mimetype": "text/x-python",
   "name": "python",
   "nbconvert_exporter": "python",
   "pygments_lexer": "ipython3",
   "version": "3.8.5"
  }
 },
 "nbformat": 4,
 "nbformat_minor": 5
}
